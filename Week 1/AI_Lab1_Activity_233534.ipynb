{
  "nbformat": 4,
  "nbformat_minor": 0,
  "metadata": {
    "colab": {
      "provenance": []
    },
    "kernelspec": {
      "name": "python3",
      "display_name": "Python 3"
    },
    "language_info": {
      "name": "python"
    }
  },
  "cells": [
    {
      "cell_type": "markdown",
      "source": [
        "**Activity 1 : Arithmatic Operations**"
      ],
      "metadata": {
        "id": "Et0d8K3q8c0r"
      }
    },
    {
      "cell_type": "code",
      "source": [
        "print(1 + 3)\n",
        "print(10 / 2)\n",
        "print(5 ** 2)"
      ],
      "metadata": {
        "colab": {
          "base_uri": "https://localhost:8080/"
        },
        "collapsed": true,
        "id": "uh6y4qlZ8iQv",
        "outputId": "b563e785-f42b-438e-a07c-2d03de1c8b7d"
      },
      "execution_count": 144,
      "outputs": [
        {
          "output_type": "stream",
          "name": "stdout",
          "text": [
            "4\n",
            "5.0\n",
            "25\n"
          ]
        }
      ]
    },
    {
      "cell_type": "markdown",
      "source": [
        "**Activity 2 : String Manipulation**"
      ],
      "metadata": {
        "id": "gWl_fOMa8sik"
      }
    },
    {
      "cell_type": "code",
      "source": [
        "print(\"python\" + \" basics\")\n",
        "print(\"AI \" * 3)"
      ],
      "metadata": {
        "colab": {
          "base_uri": "https://localhost:8080/"
        },
        "collapsed": true,
        "id": "USzOWI2z81h3",
        "outputId": "b6cc79b0-9467-42f6-dcf4-ed10be2a2eb9"
      },
      "execution_count": 145,
      "outputs": [
        {
          "output_type": "stream",
          "name": "stdout",
          "text": [
            "python basics\n",
            "AI AI AI \n"
          ]
        }
      ]
    },
    {
      "cell_type": "markdown",
      "source": [
        "**Activity 3 : Variables & Data Types**"
      ],
      "metadata": {
        "id": "3Y9o7niz861R"
      }
    },
    {
      "cell_type": "code",
      "source": [
        "fruit = \"apple\"\n",
        "print(fruit)\n",
        "fruit = 17\n",
        "print(fruit)\n",
        "x = 12/7; y = \"string\"; z = 12.2\n",
        "print(type(x), type(y), type(z))"
      ],
      "metadata": {
        "colab": {
          "base_uri": "https://localhost:8080/"
        },
        "collapsed": true,
        "id": "M70EQ-kL9C5D",
        "outputId": "52f753fc-1d83-4558-cf88-4b16359aecaa"
      },
      "execution_count": 146,
      "outputs": [
        {
          "output_type": "stream",
          "name": "stdout",
          "text": [
            "apple\n",
            "17\n",
            "<class 'float'> <class 'str'> <class 'float'>\n"
          ]
        }
      ]
    },
    {
      "cell_type": "markdown",
      "source": [
        "**Activity 4 : Lists**"
      ],
      "metadata": {
        "id": "8H_WElys91rU"
      }
    },
    {
      "cell_type": "code",
      "source": [
        "# Activity: Working with a mixed-type list and extracting sublists\n",
        "\n",
        "# Step 1: Create a list with different data types (string, float, string, integer)\n",
        "mylist = [\"apple\", 34.5, \"banana\", 9]\n",
        "print(mylist)\n",
        "\n",
        "# Step 2: Print the entire list to verify its contents\n",
        "print(\"Complete list:\", mylist)\n",
        "\n",
        "# Step 3: Access and print the first element (index 0)\n",
        "print(\"First element:\", mylist[0])\n",
        "\n",
        "# Step 4: Access and print the last element using negative indexing\n",
        "print(\"Last element:\", mylist[-1])\n",
        "\n",
        "# Step 5: Extract and print a sublist from index 1 up to (but not including) index 3\n",
        "print(\"Sublist from index 1 to 2:\", mylist[1:3])\n",
        "\n",
        "# Step 6: Extract and print every second element using step in slicing\n",
        "print(\"Every second element:\", mylist[::2])\n",
        "\n",
        "# Step 7: Check if a substring exists inside a string element of the list\n",
        "# For example, check if \"app\" is present in the first item\n",
        "if \"app\" in mylist[0]:\n",
        "    print(\"Substring 'app' found in the first element.\")\n",
        "\n",
        "# Step 8: Append a new item to the list\n",
        "mylist.append(\"grape\")\n",
        "print(\"List after appending 'grape':\", mylist)\n",
        "\n",
        "# Step 9: Remove a specific item from the list\n",
        "mylist.remove(\"banana\")\n",
        "print(\"List after removing 'banana':\", mylist)\n",
        "\n",
        "# Step 10: Replace the value at index 1 with a new value\n",
        "mylist[1] = 99.9\n",
        "print(\"List after updating index 1:\", mylist)\n",
        "\n",
        "# Final Output will display all modifications and operations performed above.\n"
      ],
      "metadata": {
        "colab": {
          "base_uri": "https://localhost:8080/"
        },
        "collapsed": true,
        "id": "HVShSWo895RW",
        "outputId": "20627c1b-46b6-43d4-9a0d-11785fad3239"
      },
      "execution_count": 147,
      "outputs": [
        {
          "output_type": "stream",
          "name": "stdout",
          "text": [
            "['apple', 34.5, 'banana', 9]\n",
            "Complete list: ['apple', 34.5, 'banana', 9]\n",
            "First element: apple\n",
            "Last element: 9\n",
            "Sublist from index 1 to 2: [34.5, 'banana']\n",
            "Every second element: ['apple', 'banana']\n",
            "Substring 'app' found in the first element.\n",
            "List after appending 'grape': ['apple', 34.5, 'banana', 9, 'grape']\n",
            "List after removing 'banana': ['apple', 34.5, 9, 'grape']\n",
            "List after updating index 1: ['apple', 99.9, 9, 'grape']\n"
          ]
        }
      ]
    },
    {
      "cell_type": "markdown",
      "source": [
        "**Activity 5 : Dictionaries**"
      ],
      "metadata": {
        "id": "nATz6fPCM3O5"
      }
    },
    {
      "cell_type": "code",
      "source": [
        "# Activity: Perform all basic dictionary operations\n",
        "\n",
        "# Step 1: Create a dictionary with key–value pairs\n",
        "car = {\"brand\": \"Ford\", \"model\": \"Mustang\", \"year\": 1964}\n",
        "print(\"Initial dictionary:\", car)\n",
        "\n",
        "# Step 2: Access the value of a specific key\n",
        "print(\"Model of the car:\", car[\"model\"])\n",
        "\n",
        "# Step 3: Update the value of an existing key\n",
        "car[\"year\"] = 2024\n",
        "print(\"After updating 'year':\", car)\n",
        "\n",
        "# Step 4: Add a new key–value pair\n",
        "car[\"color\"] = \"red\"\n",
        "print(\"After adding a new key 'color':\", car)\n",
        "\n",
        "# Step 5: Remove a specific key–value pair using pop()\n",
        "removed_value = car.pop(\"model\")\n",
        "print(\"Removed 'model' key with value:\", removed_value)\n",
        "print(\"Dictionary after pop operation:\", car)\n",
        "\n",
        "# Step 6: Remove the last inserted key–value pair using popitem()\n",
        "last_item = car.popitem()\n",
        "print(\"Removed the last inserted item:\", last_item)\n",
        "print(\"Dictionary after popitem:\", car)\n",
        "\n",
        "# Step 7: Get a value safely using get() (avoids error if key not found)\n",
        "print(\"Get 'brand' safely:\", car.get(\"brand\"))\n",
        "print(\"Get non-existing key safely (returns None):\", car.get(\"engine\"))\n",
        "\n",
        "# Step 8: Check if a key exists\n",
        "if \"brand\" in car:\n",
        "    print(\"'brand' key exists in the dictionary.\")\n",
        "\n",
        "# Step 9: View all keys, values, and key–value pairs\n",
        "print(\"All keys:\", car.keys())\n",
        "print(\"All values:\", car.values())\n",
        "print(\"All items (key–value pairs):\", car.items())\n",
        "\n",
        "# Step 10: Create a shallow copy of the dictionary\n",
        "car_copy = car.copy()\n",
        "print(\"Shallow copy of dictionary:\", car_copy)\n",
        "\n",
        "# Step 11: Clear all elements from the dictionary\n",
        "car.clear()\n",
        "print(\"Dictionary after clearing all items:\", car)\n"
      ],
      "metadata": {
        "colab": {
          "base_uri": "https://localhost:8080/"
        },
        "collapsed": true,
        "id": "SkYjRbkDM-Ke",
        "outputId": "908b861c-fa51-4a63-bbf5-af3d3f708454"
      },
      "execution_count": 148,
      "outputs": [
        {
          "output_type": "stream",
          "name": "stdout",
          "text": [
            "Initial dictionary: {'brand': 'Ford', 'model': 'Mustang', 'year': 1964}\n",
            "Model of the car: Mustang\n",
            "After updating 'year': {'brand': 'Ford', 'model': 'Mustang', 'year': 2024}\n",
            "After adding a new key 'color': {'brand': 'Ford', 'model': 'Mustang', 'year': 2024, 'color': 'red'}\n",
            "Removed 'model' key with value: Mustang\n",
            "Dictionary after pop operation: {'brand': 'Ford', 'year': 2024, 'color': 'red'}\n",
            "Removed the last inserted item: ('color', 'red')\n",
            "Dictionary after popitem: {'brand': 'Ford', 'year': 2024}\n",
            "Get 'brand' safely: Ford\n",
            "Get non-existing key safely (returns None): None\n",
            "'brand' key exists in the dictionary.\n",
            "All keys: dict_keys(['brand', 'year'])\n",
            "All values: dict_values(['Ford', 2024])\n",
            "All items (key–value pairs): dict_items([('brand', 'Ford'), ('year', 2024)])\n",
            "Shallow copy of dictionary: {'brand': 'Ford', 'year': 2024}\n",
            "Dictionary after clearing all items: {}\n"
          ]
        }
      ]
    },
    {
      "cell_type": "markdown",
      "source": [
        "**Activity 6 :Sets**"
      ],
      "metadata": {
        "id": "cDr2pB6wNz2t"
      }
    },
    {
      "cell_type": "code",
      "source": [
        "# Activity: Perform basic set operations\n",
        "# Step 1: Create a set with unique string elements\n",
        "thisset = {\"apple\", \"banana\", \"cherry\"}\n",
        "print(\"Initial set:\", thisset) # Sets are unordered, so order may differ\n",
        "\n",
        "# Step 2: Create a mixed-type set (strings, numbers, booleans)\n",
        "set1 = {\"abc\", 34, True, 40, \"male\"}\n",
        "print(\"Mixed-type set:\", set1)\n",
        "\n",
        "# Step 3: Add a single new element to a set\n",
        "thisset.add(\"orange\")\n",
        "\n",
        "print(\"After adding 'orange':\", thisset)\n",
        "\n",
        "# Step 4: Add multiple elements at once using update()\n",
        "thisset.update([\"grape\", \"mango\"])\n",
        "print(\"After adding multiple elements:\", thisset)\n",
        "\n",
        "# Step 5: Remove a specific element using remove()\n",
        "# (Raises an error if element does not exist)\n",
        "thisset.remove(\"banana\")\n",
        "print(\"After removing 'banana':\", thisset)\n",
        "\n",
        "# Step 6: Remove an element safely using discard() (no error if not present)\n",
        "thisset.discard(\"papaya\")\n",
        "print(\"After attempting to discard 'papaya' (not present):\", thisset)\n",
        "\n",
        "# Step 7: Remove and return an arbitrary element using pop()\n",
        "removed_item = thisset.pop()\n",
        "print(\"Removed an arbitrary element:\", removed_item)\n",
        "print(\"Set after pop operation:\", thisset)\n",
        "\n",
        "# Step 8: Check membership of an element\n",
        "print(\"Is 'apple' in the set?\", \"apple\" in thisset)\n",
        "\n",
        "# Step 9: Perform set union (all unique elements from both sets)\n",
        "union_set = thisset.union(set1)\n",
        "\n",
        "print(\"Union of thisset and set1:\", union_set)\n",
        "\n",
        "# Step 10: Perform set intersection (common elements in both sets)\n",
        "intersection_set = thisset.intersection(set1)\n",
        "print(\"Intersection of thisset and set1:\", intersection_set)\n",
        "\n",
        "# Step 11: Perform set difference (elements only in thisset)\n",
        "difference_set = thisset.difference(set1)\n",
        "print(\"Difference (thisset - set1):\", difference_set)# Step 12: Create a shallow copy of the set\n",
        "copy_set = thisset.copy()\n",
        "print(\"Copy of the set:\", copy_set)\n",
        "\n",
        "# Step 13: Clear all elements from the set\n",
        "thisset.clear()\n",
        "print(\"Set after clearing all elements:\", thisset)"
      ],
      "metadata": {
        "colab": {
          "base_uri": "https://localhost:8080/"
        },
        "collapsed": true,
        "id": "XeOHR4qFN3Nr",
        "outputId": "a0548382-2a21-48f7-9afa-f4609f105cac"
      },
      "execution_count": 149,
      "outputs": [
        {
          "output_type": "stream",
          "name": "stdout",
          "text": [
            "Initial set: {'banana', 'cherry', 'apple'}\n",
            "Mixed-type set: {True, 34, 'male', 40, 'abc'}\n",
            "After adding 'orange': {'orange', 'banana', 'cherry', 'apple'}\n",
            "After adding multiple elements: {'grape', 'apple', 'banana', 'orange', 'mango', 'cherry'}\n",
            "After removing 'banana': {'grape', 'apple', 'orange', 'mango', 'cherry'}\n",
            "After attempting to discard 'papaya' (not present): {'grape', 'apple', 'orange', 'mango', 'cherry'}\n",
            "Removed an arbitrary element: grape\n",
            "Set after pop operation: {'apple', 'orange', 'mango', 'cherry'}\n",
            "Is 'apple' in the set? True\n",
            "Union of thisset and set1: {True, 34, 'apple', 40, 'abc', 'orange', 'male', 'mango', 'cherry'}\n",
            "Intersection of thisset and set1: set()\n",
            "Difference (thisset - set1): {'orange', 'mango', 'cherry', 'apple'}\n",
            "Copy of the set: {'orange', 'mango', 'cherry', 'apple'}\n",
            "Set after clearing all elements: set()\n"
          ]
        }
      ]
    },
    {
      "cell_type": "markdown",
      "source": [
        "**Activity 7 : tuples**\n"
      ],
      "metadata": {
        "id": "ABa3jQa6OFs2"
      }
    },
    {
      "cell_type": "code",
      "source": [
        "thistuple = (\"apple\", \"banana\", \"cherry\")\n",
        "print(thistuple[1])"
      ],
      "metadata": {
        "colab": {
          "base_uri": "https://localhost:8080/"
        },
        "collapsed": true,
        "id": "IiNVhW45OLTx",
        "outputId": "2089bdae-f83a-424c-d0b6-3cd901302fe1"
      },
      "execution_count": 150,
      "outputs": [
        {
          "output_type": "stream",
          "name": "stdout",
          "text": [
            "banana\n"
          ]
        }
      ]
    },
    {
      "cell_type": "markdown",
      "source": [
        "**Activity 8 : Conditions and If Statements**"
      ],
      "metadata": {
        "id": "NhKLAl-jOa9W"
      }
    },
    {
      "cell_type": "code",
      "source": [
        "a, b = 33, 200\n",
        "\n",
        "if b > a:\n",
        "    print(\"b is greater than a\")\n",
        "elif a == b:\n",
        "    print(\"a and b are equal\")\n",
        "else:\n",
        "    print(\"a is greater than b\")\n"
      ],
      "metadata": {
        "colab": {
          "base_uri": "https://localhost:8080/"
        },
        "collapsed": true,
        "id": "wnTCDpebOp6h",
        "outputId": "5e0e289b-1948-4d4d-a16f-84df7443e13e"
      },
      "execution_count": 151,
      "outputs": [
        {
          "output_type": "stream",
          "name": "stdout",
          "text": [
            "b is greater than a\n"
          ]
        }
      ]
    },
    {
      "cell_type": "markdown",
      "source": [
        "**Activity 9 : Loops**"
      ],
      "metadata": {
        "id": "dPohQc6NO971"
      }
    },
    {
      "cell_type": "code",
      "source": [
        "# Activity: Explore for-loop with range and additional operations\n",
        "# Step 1: Basic range iteration (prints numbers 0 to 4)\n",
        "for i in range(5):\n",
        "  print(\"Number:\", i)\n",
        "# Step 2: Use a custom start and end (prints numbers 2 to 6)\n",
        "for i in range(2, 7):\n",
        "  print(\"From 2 to 6:\", i)\n",
        "# Step 3: Use a step value (prints even numbers from 0 to 8)\n",
        "for i in range(0, 10, 2):\n",
        "  print(\"Even number:\", i)\n",
        "\n",
        "# Step 4: Iterate in reverse order (prints numbers 5 down to 1)\n",
        "for i in range(5, 0, -1):\n",
        "  print(\"Countdown:\", i)\n",
        "# Step 5: Use range with a list (access both index and value)\n",
        "fruits = [\"apple\", \"banana\", \"cherry\"]\n",
        "for index in range(len(fruits)):\n",
        "  print(\"Index:\", index, \"Fruit:\", fruits[index])\n",
        "# Step 6: Use an if-condition inside the loop (print only odd numbers)\n",
        "\n",
        "for i in range(10):\n",
        "  if i % 2 != 0:\n",
        "    print(\"Odd number:\", i)"
      ],
      "metadata": {
        "colab": {
          "base_uri": "https://localhost:8080/"
        },
        "collapsed": true,
        "id": "47cDKMbUPA4C",
        "outputId": "7693b958-c4da-48af-ca03-7bb089d2a82f"
      },
      "execution_count": 152,
      "outputs": [
        {
          "output_type": "stream",
          "name": "stdout",
          "text": [
            "Number: 0\n",
            "Number: 1\n",
            "Number: 2\n",
            "Number: 3\n",
            "Number: 4\n",
            "From 2 to 6: 2\n",
            "From 2 to 6: 3\n",
            "From 2 to 6: 4\n",
            "From 2 to 6: 5\n",
            "From 2 to 6: 6\n",
            "Even number: 0\n",
            "Even number: 2\n",
            "Even number: 4\n",
            "Even number: 6\n",
            "Even number: 8\n",
            "Countdown: 5\n",
            "Countdown: 4\n",
            "Countdown: 3\n",
            "Countdown: 2\n",
            "Countdown: 1\n",
            "Index: 0 Fruit: apple\n",
            "Index: 1 Fruit: banana\n",
            "Index: 2 Fruit: cherry\n",
            "Odd number: 1\n",
            "Odd number: 3\n",
            "Odd number: 5\n",
            "Odd number: 7\n",
            "Odd number: 9\n"
          ]
        }
      ]
    },
    {
      "cell_type": "markdown",
      "source": [
        "**Activity 10  :Functions**"
      ],
      "metadata": {
        "id": "_ZPcVoJ6PTw-"
      }
    },
    {
      "cell_type": "code",
      "source": [
        "# Activity 10: Working with Functions and Different Types of Arguments\n",
        "\n",
        "# Step 1: Basic function with two parameters\n",
        "def my_function(fname, lname):\n",
        "    # Concatenate first and last name and print the full name\n",
        "    print(\"Full name:\", fname + \" \" + lname)\n",
        "\n",
        "# Call the function with two string arguments\n",
        "my_function(\"Emil\", \"Refsnes\")\n",
        "\n",
        "\n",
        "# Step 2: Function with arbitrary positional arguments (*args)\n",
        "def kids_function(*kids):\n",
        "    # *kids collects all arguments into a tuple\n",
        "    # Access the third child (index 2) and print it\n",
        "    print(\"The youngest child is:\", kids[2])\n",
        "\n",
        "# Call the function with three arguments\n",
        "kids_function(\"Emil\", \"Tobias\", \"Linus\")\n",
        "\n",
        "\n",
        "# Step 3: Function with default arguments\n",
        "def greet_user(name=\"Guest\"):\n",
        "    # Prints a greeting, using \"Guest\" if no name is given\n",
        "    print(\"Hello,\", name)\n",
        "\n",
        "greet_user()       # Uses default value\n",
        "greet_user(\"Alice\") # Uses provided value\n",
        "\n",
        "\n",
        "# Step 4: Function with arbitrary keyword arguments (**kwargs)\n",
        "def describe_pet(**pet_info):\n",
        "    # **pet_info collects keyword arguments into a dictionary\n",
        "    # Access values by their keys\n",
        "    print(\"Pet details:\")\n",
        "    for key, value in pet_info.items():\n",
        "        print(key.capitalize() + \":\", value)\n",
        "\n",
        "# Call the function with keyword arguments\n",
        "describe_pet(type=\"Dog\", name=\"Buddy\", age=5)\n",
        "\n",
        "\n",
        "# Step 5: Function returning a value\n",
        "def add_numbers(a, b):\n",
        "    # Returns the sum of two numbers\n",
        "    return a + b\n",
        "\n",
        "result = add_numbers(10, 20)\n",
        "print(\"Sum of numbers:\", result)\n"
      ],
      "metadata": {
        "colab": {
          "base_uri": "https://localhost:8080/"
        },
        "collapsed": true,
        "id": "ypkkrFQoPf2N",
        "outputId": "1030db74-a3ab-4719-fe99-10238138f853"
      },
      "execution_count": 153,
      "outputs": [
        {
          "output_type": "stream",
          "name": "stdout",
          "text": [
            "Full name: Emil Refsnes\n",
            "The youngest child is: Linus\n",
            "Hello, Guest\n",
            "Hello, Alice\n",
            "Pet details:\n",
            "Type: Dog\n",
            "Name: Buddy\n",
            "Age: 5\n",
            "Sum of numbers: 30\n"
          ]
        }
      ]
    }
  ]
}