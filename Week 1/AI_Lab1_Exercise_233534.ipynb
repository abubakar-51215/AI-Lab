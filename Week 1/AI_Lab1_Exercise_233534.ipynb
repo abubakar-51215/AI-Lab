{
  "nbformat": 4,
  "nbformat_minor": 0,
  "metadata": {
    "colab": {
      "provenance": []
    },
    "kernelspec": {
      "name": "python3",
      "display_name": "Python 3"
    },
    "language_info": {
      "name": "python"
    }
  },
  "cells": [
    {
      "cell_type": "markdown",
      "source": [
        "**1. Write a program to check if a number is prime.**"
      ],
      "metadata": {
        "id": "ef13w7Y7R2dh"
      }
    },
    {
      "cell_type": "code",
      "source": [
        "num = int(input(\"Enter a number: \"))\n",
        "\n",
        "if num > 1:\n",
        "    for i in range(2, num):\n",
        "        if num % i == 0:\n",
        "            print(num, \"is not a prime number\")\n",
        "            break\n",
        "    else:\n",
        "        print(num, \"is a prime number\")\n",
        "else:\n",
        "    print(num, \"is not a prime number\")\n"
      ],
      "metadata": {
        "id": "Tnwq_7K5R4qb"
      },
      "execution_count": null,
      "outputs": []
    },
    {
      "cell_type": "markdown",
      "source": [
        "**2. Create a list of 10 numbers and print their average.**"
      ],
      "metadata": {
        "id": "ZQuR81tlSC8P"
      }
    },
    {
      "cell_type": "code",
      "source": [
        "numbers = [10, 20, 30, 40, 50, 60, 70, 80, 90, 100]\n",
        "average = sum(numbers) / len(numbers)\n",
        "print(\"Average:\", average)\n"
      ],
      "metadata": {
        "id": "ZM3pt2zOSFqd"
      },
      "execution_count": null,
      "outputs": []
    },
    {
      "cell_type": "markdown",
      "source": [
        "**3. Store student names and marks in a dictionary and display the topper.**"
      ],
      "metadata": {
        "id": "EbGpg6qKSLl7"
      }
    },
    {
      "cell_type": "code",
      "source": [
        "students = {\"Ali\": 85, \"Sara\": 92, \"Omar\": 78, \"Abubakar\": 99}\n",
        "topper = max(students, key=students.get)\n",
        "print(\"Topper is:\", topper, \"with marks:\", students[topper])\n"
      ],
      "metadata": {
        "id": "gaXOu5usSOOZ"
      },
      "execution_count": null,
      "outputs": []
    },
    {
      "cell_type": "markdown",
      "source": [
        "**4. Demonstrate set operations: union, intersection, difference.**"
      ],
      "metadata": {
        "id": "EtUonYErSW0n"
      }
    },
    {
      "cell_type": "code",
      "source": [
        "A = {1, 2, 3, 4}\n",
        "B = {3, 4, 5, 6}\n",
        "\n",
        "print(\"Union:\", A | B)\n",
        "print(\"Intersection:\", A & B)\n",
        "print(\"Difference (A - B):\", A - B)\n"
      ],
      "metadata": {
        "id": "sK3aIsYqScmF"
      },
      "execution_count": null,
      "outputs": []
    },
    {
      "cell_type": "markdown",
      "source": [
        "**5. Write a function to compute factorial using recursion.**"
      ],
      "metadata": {
        "id": "z0T2rKRaSfP0"
      }
    },
    {
      "cell_type": "code",
      "source": [
        "def factorial(n):\n",
        "    if n == 0 or n == 1:\n",
        "        return 1\n",
        "    else:\n",
        "        return n * factorial(n - 1)\n",
        "\n",
        "num = 5\n",
        "print(\"Factorial of\", num, \"is\", factorial(num))\n"
      ],
      "metadata": {
        "id": "7Msixws9ShdH"
      },
      "execution_count": null,
      "outputs": []
    },
    {
      "cell_type": "markdown",
      "source": [
        "**6. Use a for loop to print the Fibonacci series up to n terms.**"
      ],
      "metadata": {
        "id": "vPDCi-8YSlso"
      }
    },
    {
      "cell_type": "code",
      "source": [
        "n = int(input(\"Enter number of terms: \"))\n",
        "a, b = 0, 1\n",
        "\n",
        "print(\"Fibonacci series:\")\n",
        "for _ in range(n):\n",
        "    print(a, end=\" \")\n",
        "    a, b = b, a + b\n"
      ],
      "metadata": {
        "id": "qtiNUvNQSo0h"
      },
      "execution_count": null,
      "outputs": []
    },
    {
      "cell_type": "markdown",
      "source": [
        "**7. Read a string and count the number of vowels.**"
      ],
      "metadata": {
        "id": "D1rAx13vS1Xe"
      }
    },
    {
      "cell_type": "code",
      "source": [
        "text = input(\"Enter a string: \")\n",
        "vowels = \"aeiouAEIOU\"\n",
        "count = sum(1 for char in text if char in vowels)\n",
        "print(\"Number of vowels:\", count)\n"
      ],
      "metadata": {
        "id": "Xh9nxshVS4jn"
      },
      "execution_count": null,
      "outputs": []
    },
    {
      "cell_type": "markdown",
      "source": [
        "**8. Create a tuple of numbers and find the maximum and minimum.**"
      ],
      "metadata": {
        "id": "Q9nh5NOPS9yI"
      }
    },
    {
      "cell_type": "code",
      "source": [
        "numbers = (11, 20, 30, 999, 5665, 70875456)\n",
        "print(\"Maximum:\", max(numbers))\n",
        "print(\"Minimum:\", min(numbers))\n"
      ],
      "metadata": {
        "collapsed": true,
        "id": "FcVl8AmQTEEt"
      },
      "execution_count": null,
      "outputs": []
    },
    {
      "cell_type": "markdown",
      "source": [
        "**9. Create a program that asks for user input and reverses the string.**"
      ],
      "metadata": {
        "id": "KenP4AnVTK4Y"
      }
    },
    {
      "cell_type": "code",
      "source": [
        "text = input(\"Enter a string: \")\n",
        "print(\"Reversed string:\", text[::-1])\n"
      ],
      "metadata": {
        "id": "pK7aKW9pTM-6"
      },
      "execution_count": null,
      "outputs": []
    }
  ]
}